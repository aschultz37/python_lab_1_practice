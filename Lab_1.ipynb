{
 "cells": [
  {
   "cell_type": "markdown",
   "id": "46f65f20",
   "metadata": {},
   "source": [
    "# Introduction to jupyter notebooks"
   ]
  },
  {
   "cell_type": "code",
   "execution_count": 1,
   "id": "fa366d40",
   "metadata": {},
   "outputs": [],
   "source": [
    "import numpy as np\n",
    "import matplotlib.pyplot as plt\n",
    "import pandas as pd"
   ]
  },
  {
   "cell_type": "code",
   "execution_count": 22,
   "id": "d47cc19e",
   "metadata": {},
   "outputs": [],
   "source": [
    "df = pd.read_csv('data.csv', index_col=0)"
   ]
  },
  {
   "cell_type": "code",
   "execution_count": 27,
   "id": "6a5a2be1",
   "metadata": {},
   "outputs": [
    {
     "data": {
      "text/plain": [
       "numpy.float64"
      ]
     },
     "execution_count": 27,
     "metadata": {},
     "output_type": "execute_result"
    }
   ],
   "source": [
    "df"
   ]
  },
  {
   "cell_type": "code",
   "execution_count": 17,
   "id": "ecbf56d8",
   "metadata": {},
   "outputs": [],
   "source": [
    "x_pd = df[\"x\"] # Alternatively, x_pd = data.x\n",
    "x_np = x_pd.to_numpy()"
   ]
  },
  {
   "cell_type": "code",
   "execution_count": 18,
   "id": "d1f62b4d",
   "metadata": {},
   "outputs": [
    {
     "data": {
      "text/plain": [
       "[<matplotlib.lines.Line2D at 0x7fd0e8ebfb20>]"
      ]
     },
     "execution_count": 18,
     "metadata": {},
     "output_type": "execute_result"
    },
    {
     "data": {
      "image/png": "[encoded data removed]",
      "text/plain": [
       "<Figure size 640x480 with 1 Axes>"
      ]
     },
     "metadata": {},
     "output_type": "display_data"
    }
   ],
   "source": [
    "plt.plot(x_np)"
   ]
  },
  {
   "cell_type": "markdown",
   "id": "3ad51596",
   "metadata": {},
   "source": [
    "# Competition\n",
    "## Speed Portion\n",
    "\n",
    "The below utilizes the expectation function in the form:\n",
    "\n",
    "$$ [\\mathbb{E}(X^{2}) - \\mathbb{E}(X)]^2 $$"
   ]
  },
  {
   "cell_type": "code",
   "execution_count": 6,
   "id": "3c66b75c",
   "metadata": {},
   "outputs": [],
   "source": [
    "def mean(x):\n",
    "    # YOUR CODE HERE\n",
    "    return np.sum(x) / x.size\n",
    "\n",
    "def variance(x):\n",
    "    # YOUR CODE HERE\n",
    "    return np.sum(np.square(x)) / x.size - np.square(np.sum(x)/x.size)"
   ]
  },
  {
   "cell_type": "markdown",
   "id": "4a6d8bbc",
   "metadata": {},
   "source": [
    "## Creativity Portion\n",
    "The below uses expectation in the form:\n",
    "\n",
    "$$ \\frac{\\sum_{i \\in N}(x_i - \\bar{x})^2}{N}$$"
   ]
  },
  {
   "cell_type": "code",
   "execution_count": 20,
   "id": "3e0ee37a",
   "metadata": {},
   "outputs": [],
   "source": [
    "def mean(x):\n",
    "    # YOUR CODE HERE\n",
    "    import creative as cr\n",
    "    mean_result = cr.mean(x)\n",
    "    return mean_result\n",
    "\n",
    "def variance(x):\n",
    "    # YOUR CODE HERE\n",
    "    import creative as cr\n",
    "    var_result = cr.var(x)\n",
    "    return var_result"
   ]
  },
  {
   "cell_type": "markdown",
   "id": "059654c3",
   "metadata": {},
   "source": [
    "## Testing & Result Output\n",
    "*Note*: for competitive purposes, please use the **Speed** portion for testing"
   ]
  },
  {
   "cell_type": "code",
   "execution_count": 21,
   "id": "535fc7db",
   "metadata": {
    "scrolled": true
   },
   "outputs": [
    {
     "name": "stdout",
     "output_type": "stream",
     "text": [
      "My Mean: 0.0 | True Mean: 1.0\n"
     ]
    },
    {
     "ename": "AssertionError",
     "evalue": "mean not returning correct value",
     "output_type": "error",
     "traceback": [
      "\u001b[0;31m---------------------------------------------------------------------------\u001b[0m",
      "\u001b[0;31mAssertionError\u001b[0m                            Traceback (most recent call last)",
      "\u001b[1;32m/gpfs/home/acs9950/python/Lab_1/Lab_1.ipynb Cell 12\u001b[0m in \u001b[0;36m<cell line: 3>\u001b[0;34m()\u001b[0m\n\u001b[1;32m      <a href='vscode-notebook-cell://ssh-remote%2Bbigpurple.nyumc.org/gpfs/home/acs9950/python/Lab_1/Lab_1.ipynb#X14sdnNjb2RlLXJlbW90ZQ%3D%3D?line=7'>8</a>\u001b[0m true_mean \u001b[39m=\u001b[39m np\u001b[39m.\u001b[39mmean(x_np)\n\u001b[1;32m      <a href='vscode-notebook-cell://ssh-remote%2Bbigpurple.nyumc.org/gpfs/home/acs9950/python/Lab_1/Lab_1.ipynb#X14sdnNjb2RlLXJlbW90ZQ%3D%3D?line=8'>9</a>\u001b[0m \u001b[39mprint\u001b[39m(\u001b[39mf\u001b[39m\u001b[39m'\u001b[39m\u001b[39mMy Mean: \u001b[39m\u001b[39m{\u001b[39;00mmy_mean\u001b[39m}\u001b[39;00m\u001b[39m | True Mean: \u001b[39m\u001b[39m{\u001b[39;00mtrue_mean\u001b[39m}\u001b[39;00m\u001b[39m'\u001b[39m)\n\u001b[0;32m---> <a href='vscode-notebook-cell://ssh-remote%2Bbigpurple.nyumc.org/gpfs/home/acs9950/python/Lab_1/Lab_1.ipynb#X14sdnNjb2RlLXJlbW90ZQ%3D%3D?line=9'>10</a>\u001b[0m \u001b[39massert\u001b[39;00m np\u001b[39m.\u001b[39mround(my_mean \u001b[39m-\u001b[39m true_mean, \u001b[39m6\u001b[39m) \u001b[39m==\u001b[39m \u001b[39m0\u001b[39m, \u001b[39m\"\u001b[39m\u001b[39mmean not returning correct value\u001b[39m\u001b[39m\"\u001b[39m\n\u001b[1;32m     <a href='vscode-notebook-cell://ssh-remote%2Bbigpurple.nyumc.org/gpfs/home/acs9950/python/Lab_1/Lab_1.ipynb#X14sdnNjb2RlLXJlbW90ZQ%3D%3D?line=10'>11</a>\u001b[0m \u001b[39m# Times the variance computation\u001b[39;00m\n\u001b[1;32m     <a href='vscode-notebook-cell://ssh-remote%2Bbigpurple.nyumc.org/gpfs/home/acs9950/python/Lab_1/Lab_1.ipynb#X14sdnNjb2RlLXJlbW90ZQ%3D%3D?line=11'>12</a>\u001b[0m start_time \u001b[39m=\u001b[39m time\u001b[39m.\u001b[39mtime()\n",
      "\u001b[0;31mAssertionError\u001b[0m: mean not returning correct value"
     ]
    }
   ],
   "source": [
    "import time\n",
    "t_mean, t_var = 0, 0\n",
    "for i in range(1000):\n",
    "    # Times the mean computation\n",
    "    start_time = time.time()\n",
    "    my_mean = mean(x_np)\n",
    "    t_mean += time.time() - start_time\n",
    "    true_mean = np.mean(x_np)\n",
    "    print(f'My Mean: {my_mean} | True Mean: {true_mean}')\n",
    "    assert np.round(my_mean - true_mean, 6) == 0, \"mean not returning correct value\"\n",
    "    # Times the variance computation\n",
    "    start_time = time.time()\n",
    "    my_var = variance(x_np)\n",
    "    t_var += time.time() - start_time\n",
    "    true_var = np.var(x_np)\n",
    "    print(f'My Var: {my_var} | True Var: {true_var}')\n",
    "    assert np.round(my_var - true_var, 6) == 0, \"variance not returning correct value\"\n",
    "\n",
    "print(\"Computing the mean took %s milliseconds on average\" % np.round(t_mean, 3))\n",
    "print(\"Computing the variance took %s milliseconds on average\" % np.round(t_var, 3))"
   ]
  }
 ],
 "metadata": {
  "kernelspec": {
   "display_name": "Python 3.10.6 ('my_base')",
   "language": "python",
   "name": "python3"
  },
  "language_info": {
   "codemirror_mode": {
    "name": "ipython",
    "version": 3
   },
   "file_extension": ".py",
   "mimetype": "text/x-python",
   "name": "python",
   "nbconvert_exporter": "python",
   "pygments_lexer": "ipython3",
   "version": "3.10.6"
  },
  "vscode": {
   "interpreter": {
    "hash": "d296bbc9ec6fc6135b049f69da54b5d413c21aa7feab67cf2a4aa554492e05b6"
   }
  }
 },
 "nbformat": 4,
 "nbformat_minor": 5
}
